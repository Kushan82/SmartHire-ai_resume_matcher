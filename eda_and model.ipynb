{
 "cells": [
  {
   "cell_type": "code",
   "execution_count": 1,
   "id": "51be8524",
   "metadata": {},
   "outputs": [
    {
     "name": "stderr",
     "output_type": "stream",
     "text": [
      "[nltk_data] Downloading package punkt to\n",
      "[nltk_data]     C:\\Users\\itzku\\AppData\\Roaming\\nltk_data...\n",
      "[nltk_data]   Package punkt is already up-to-date!\n",
      "[nltk_data] Downloading package stopwords to\n",
      "[nltk_data]     C:\\Users\\itzku\\AppData\\Roaming\\nltk_data...\n",
      "[nltk_data]   Unzipping corpora\\stopwords.zip.\n"
     ]
    }
   ],
   "source": [
    "from src.data_loader import load_resumes,load_job_descriptions\n",
    "from src.preprocessing import preprocess_text\n",
    "from src.feature_engineering import ResumeMatcher\n",
    "from src.llm_utils import get_resume_feedback\n",
    "import pandas as pd"
   ]
  },
  {
   "cell_type": "code",
   "execution_count": 2,
   "id": "ef865c30",
   "metadata": {},
   "outputs": [
    {
     "ename": "FileNotFoundError",
     "evalue": "[WinError 3] The system cannot find the path specified: '../data/resumes'",
     "output_type": "error",
     "traceback": [
      "\u001b[1;31m---------------------------------------------------------------------------\u001b[0m",
      "\u001b[1;31mFileNotFoundError\u001b[0m                         Traceback (most recent call last)",
      "Cell \u001b[1;32mIn[2], line 1\u001b[0m\n\u001b[1;32m----> 1\u001b[0m resumes_raw \u001b[38;5;241m=\u001b[39m \u001b[43mload_resumes\u001b[49m\u001b[43m(\u001b[49m\u001b[38;5;124;43m'\u001b[39;49m\u001b[38;5;124;43m../data/resumes\u001b[39;49m\u001b[38;5;124;43m'\u001b[39;49m\u001b[43m)\u001b[49m\n\u001b[0;32m      2\u001b[0m job_descriptions_raw \u001b[38;5;241m=\u001b[39m load_job_descriptions(\u001b[38;5;124m'\u001b[39m\u001b[38;5;124m../data/job_descriptions\u001b[39m\u001b[38;5;124m'\u001b[39m)\n\u001b[0;32m      3\u001b[0m \u001b[38;5;28mprint\u001b[39m(\u001b[38;5;124mf\u001b[39m\u001b[38;5;124m\"\u001b[39m\u001b[38;5;124mLoaded \u001b[39m\u001b[38;5;132;01m{\u001b[39;00m\u001b[38;5;28mlen\u001b[39m(resumes_raw)\u001b[38;5;132;01m}\u001b[39;00m\u001b[38;5;124m resumes and \u001b[39m\u001b[38;5;132;01m{\u001b[39;00m\u001b[38;5;28mlen\u001b[39m(job_descriptions_raw)\u001b[38;5;132;01m}\u001b[39;00m\u001b[38;5;124m job descriptions.\u001b[39m\u001b[38;5;124m\"\u001b[39m)\n",
      "File \u001b[1;32mc:\\Users\\itzku\\Desktop\\projects\\SmartHire-ai_resume_matcher\\src\\data_loader.py:24\u001b[0m, in \u001b[0;36mload_resumes\u001b[1;34m(folder_path)\u001b[0m\n\u001b[0;32m     22\u001b[0m \u001b[38;5;28;01mdef\u001b[39;00m\u001b[38;5;250m \u001b[39m\u001b[38;5;21mload_resumes\u001b[39m(folder_path: \u001b[38;5;28mstr\u001b[39m) \u001b[38;5;241m-\u001b[39m\u001b[38;5;241m>\u001b[39m Dict[\u001b[38;5;28mstr\u001b[39m, \u001b[38;5;28mstr\u001b[39m]:\n\u001b[0;32m     23\u001b[0m     resume_texts \u001b[38;5;241m=\u001b[39m {}\n\u001b[1;32m---> 24\u001b[0m     \u001b[38;5;28;01mfor\u001b[39;00m filename \u001b[38;5;129;01min\u001b[39;00m \u001b[43mos\u001b[49m\u001b[38;5;241;43m.\u001b[39;49m\u001b[43mlistdir\u001b[49m\u001b[43m(\u001b[49m\u001b[43mfolder_path\u001b[49m\u001b[43m)\u001b[49m:\n\u001b[0;32m     25\u001b[0m         file_path \u001b[38;5;241m=\u001b[39m os\u001b[38;5;241m.\u001b[39mpath\u001b[38;5;241m.\u001b[39mjoin(folder_path, filename)\n\u001b[0;32m     26\u001b[0m         \u001b[38;5;28;01mif\u001b[39;00m filename\u001b[38;5;241m.\u001b[39mendswith(\u001b[38;5;124m'\u001b[39m\u001b[38;5;124m.pdf\u001b[39m\u001b[38;5;124m'\u001b[39m):\n",
      "\u001b[1;31mFileNotFoundError\u001b[0m: [WinError 3] The system cannot find the path specified: '../data/resumes'"
     ]
    }
   ],
   "source": [
    "resumes_raw = load_resumes('../data/resumes')\n",
    "job_descriptions_raw = load_job_descriptions('../data/job_descriptions')\n",
    "print(f\"Loaded {len(resumes_raw)} resumes and {len(job_descriptions_raw)} job descriptions.\")"
   ]
  },
  {
   "cell_type": "code",
   "execution_count": 3,
   "id": "3c1750e4",
   "metadata": {},
   "outputs": [
    {
     "ename": "NameError",
     "evalue": "name 'resumes_raw' is not defined",
     "output_type": "error",
     "traceback": [
      "\u001b[1;31m---------------------------------------------------------------------------\u001b[0m",
      "\u001b[1;31mNameError\u001b[0m                                 Traceback (most recent call last)",
      "Cell \u001b[1;32mIn[3], line 1\u001b[0m\n\u001b[1;32m----> 1\u001b[0m resumes_cleaned \u001b[38;5;241m=\u001b[39m [preprocess_text(text) \u001b[38;5;28;01mfor\u001b[39;00m text \u001b[38;5;129;01min\u001b[39;00m \u001b[43mresumes_raw\u001b[49m\u001b[38;5;241m.\u001b[39mvalues()]\n\u001b[0;32m      2\u001b[0m jds_cleaned \u001b[38;5;241m=\u001b[39m [preprocess_text(text) \u001b[38;5;28;01mfor\u001b[39;00m text \u001b[38;5;129;01min\u001b[39;00m job_descriptions_raw\u001b[38;5;241m.\u001b[39mvalues()]\n\u001b[0;32m      4\u001b[0m \u001b[38;5;28mprint\u001b[39m(resumes_cleaned[\u001b[38;5;241m0\u001b[39m][:\u001b[38;5;241m500\u001b[39m])  \n",
      "\u001b[1;31mNameError\u001b[0m: name 'resumes_raw' is not defined"
     ]
    }
   ],
   "source": [
    "resumes_cleaned = [preprocess_text(text) for text in resumes_raw.values()]\n",
    "jds_cleaned = [preprocess_text(text) for text in job_descriptions_raw.values()]\n",
    "\n",
    "print(resumes_cleaned[0][:500])  "
   ]
  },
  {
   "cell_type": "code",
   "execution_count": 4,
   "id": "31428986",
   "metadata": {},
   "outputs": [
    {
     "ename": "NameError",
     "evalue": "name 'jds_cleaned' is not defined",
     "output_type": "error",
     "traceback": [
      "\u001b[1;31m---------------------------------------------------------------------------\u001b[0m",
      "\u001b[1;31mNameError\u001b[0m                                 Traceback (most recent call last)",
      "Cell \u001b[1;32mIn[4], line 2\u001b[0m\n\u001b[0;32m      1\u001b[0m matcher \u001b[38;5;241m=\u001b[39m ResumeMatcher()\n\u001b[1;32m----> 2\u001b[0m matcher\u001b[38;5;241m.\u001b[39mfit(\u001b[43mjds_cleaned\u001b[49m)\n\u001b[0;32m      3\u001b[0m similarity_scores \u001b[38;5;241m=\u001b[39m matcher\u001b[38;5;241m.\u001b[39mmatch(resumes_cleaned)\n\u001b[0;32m      5\u001b[0m \u001b[38;5;66;03m# Show similarity matrix\u001b[39;00m\n",
      "\u001b[1;31mNameError\u001b[0m: name 'jds_cleaned' is not defined"
     ]
    }
   ],
   "source": [
    "matcher = ResumeMatcher()\n",
    "matcher.fit(jds_cleaned)\n",
    "similarity_scores = matcher.match(resumes_cleaned)\n",
    "\n",
    "# Show similarity matrix\n",
    "df = pd.DataFrame(\n",
    "    similarity_scores,\n",
    "    index=resumes_raw.keys(),\n",
    "    columns=job_descriptions_raw.keys()\n",
    ")\n",
    "df.style.background_gradient(cmap='Greens')"
   ]
  },
  {
   "cell_type": "code",
   "execution_count": null,
   "id": "841d22ef",
   "metadata": {},
   "outputs": [],
   "source": [
    "resume_sample_text = list(resumes_raw.values())[0]\n",
    "job_sample_text = list(job_descriptions_raw.values())[0]\n",
    "\n",
    "feedback = get_resume_feedback(resume_sample_text, job_sample_text)\n",
    "print(\"💬 LLM Feedback:\\n\")\n",
    "print(feedback)"
   ]
  }
 ],
 "metadata": {
  "kernelspec": {
   "display_name": "venv",
   "language": "python",
   "name": "python3"
  },
  "language_info": {
   "codemirror_mode": {
    "name": "ipython",
    "version": 3
   },
   "file_extension": ".py",
   "mimetype": "text/x-python",
   "name": "python",
   "nbconvert_exporter": "python",
   "pygments_lexer": "ipython3",
   "version": "3.10.11"
  }
 },
 "nbformat": 4,
 "nbformat_minor": 5
}
