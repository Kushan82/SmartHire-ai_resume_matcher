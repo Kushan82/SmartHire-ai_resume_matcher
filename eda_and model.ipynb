{
 "cells": [
  {
   "cell_type": "code",
   "execution_count": 1,
   "id": "51be8524",
   "metadata": {},
   "outputs": [
    {
     "name": "stderr",
     "output_type": "stream",
     "text": [
      "[nltk_data] Downloading package punkt to\n",
      "[nltk_data]     C:\\Users\\itzku\\AppData\\Roaming\\nltk_data...\n",
      "[nltk_data]   Package punkt is already up-to-date!\n",
      "[nltk_data] Downloading package stopwords to\n",
      "[nltk_data]     C:\\Users\\itzku\\AppData\\Roaming\\nltk_data...\n",
      "[nltk_data]   Package stopwords is already up-to-date!\n"
     ]
    }
   ],
   "source": [
    "from src.data_loader import load_resumes,load_job_descriptions\n",
    "from src.preprocessing import preprocess_text\n",
    "from src.feature_engineering import ResumeMatcher\n",
    "from src.llm_utils import get_resume_feedback\n",
    "import pandas as pd"
   ]
  },
  {
   "cell_type": "code",
   "execution_count": 2,
   "id": "ef865c30",
   "metadata": {},
   "outputs": [
    {
     "name": "stdout",
     "output_type": "stream",
     "text": [
      "Loaded 5 resumes and 1 job descriptions.\n"
     ]
    }
   ],
   "source": [
    "resumes_raw = load_resumes('data/resumes')\n",
    "job_descriptions_raw = load_job_descriptions('data/job_descriptions')\n",
    "print(f\"Loaded {len(resumes_raw)} resumes and {len(job_descriptions_raw)} job descriptions.\")"
   ]
  },
  {
   "cell_type": "code",
   "execution_count": 3,
   "id": "6db6875d",
   "metadata": {},
   "outputs": [
    {
     "name": "stderr",
     "output_type": "stream",
     "text": [
      "[nltk_data] Downloading package punkt to ./nltk_data...\n",
      "[nltk_data]   Package punkt is already up-to-date!\n",
      "[nltk_data] Downloading package stopwords to ./nltk_data...\n",
      "[nltk_data]   Package stopwords is already up-to-date!\n"
     ]
    }
   ],
   "source": [
    "import nltk\n",
    "\n",
    "# Download to a known folder\n",
    "nltk.download('punkt', download_dir='./nltk_data')\n",
    "nltk.download('stopwords', download_dir='./nltk_data')\n",
    "\n",
    "# Set the NLTK data path\n",
    "nltk.data.path.append('./nltk_data')\n"
   ]
  },
  {
   "cell_type": "code",
   "execution_count": 4,
   "id": "7161bfc2",
   "metadata": {},
   "outputs": [],
   "source": [
    "import spacy\n",
    "nlp = spacy.load(\"en_core_web_sm\")  # Run: python -m spacy download en_core_web_sm\n",
    "\n",
    "def preprocess_text(text):\n",
    "    doc = nlp(text.lower())\n",
    "    tokens = [token.text for token in doc if token.is_alpha and not token.is_stop]\n",
    "    return \" \".join(tokens)\n"
   ]
  },
  {
   "cell_type": "code",
   "execution_count": 5,
   "id": "3c1750e4",
   "metadata": {},
   "outputs": [
    {
     "name": "stdout",
     "output_type": "stream",
     "text": [
      "abhilash b r portfolio website data enthusiast seeking opportunities field data analytics drive strategic business decisions impactful insights data driven decision making project experience business insights data analyst challenge sql data exploration power bi dashboard analyzed sales data hardware manufacturing company generated insights related finance sales marketing supply chain analytics bulk loading data establishing relationships snowflake schema format tables erd mysql data ready analys\n"
     ]
    }
   ],
   "source": [
    "resumes_cleaned = [preprocess_text(text) for text in resumes_raw.values()]\n",
    "jds_cleaned = [preprocess_text(text) for text in job_descriptions_raw.values()]\n",
    "\n",
    "print(resumes_cleaned[0][:500])  "
   ]
  },
  {
   "cell_type": "code",
   "execution_count": 6,
   "id": "31428986",
   "metadata": {},
   "outputs": [
    {
     "data": {
      "text/html": [
       "<style type=\"text/css\">\n",
       "#T_02f50_row0_col0 {\n",
       "  background-color: #00441b;\n",
       "  color: #f1f1f1;\n",
       "}\n",
       "#T_02f50_row1_col0 {\n",
       "  background-color: #5db96b;\n",
       "  color: #f1f1f1;\n",
       "}\n",
       "#T_02f50_row2_col0 {\n",
       "  background-color: #75c477;\n",
       "  color: #000000;\n",
       "}\n",
       "#T_02f50_row3_col0 {\n",
       "  background-color: #f7fcf5;\n",
       "  color: #000000;\n",
       "}\n",
       "#T_02f50_row4_col0 {\n",
       "  background-color: #eef8ea;\n",
       "  color: #000000;\n",
       "}\n",
       "</style>\n",
       "<table id=\"T_02f50\">\n",
       "  <thead>\n",
       "    <tr>\n",
       "      <th class=\"blank level0\" >&nbsp;</th>\n",
       "      <th id=\"T_02f50_level0_col0\" class=\"col_heading level0 col0\" >jd_data_analyst.txt</th>\n",
       "    </tr>\n",
       "  </thead>\n",
       "  <tbody>\n",
       "    <tr>\n",
       "      <th id=\"T_02f50_level0_row0\" class=\"row_heading level0 row0\" >data_analyst_resume.pdf</th>\n",
       "      <td id=\"T_02f50_row0_col0\" class=\"data row0 col0\" >0.590400</td>\n",
       "    </tr>\n",
       "    <tr>\n",
       "      <th id=\"T_02f50_level0_row1\" class=\"row_heading level0 row1\" >intern_resume.txt</th>\n",
       "      <td id=\"T_02f50_row1_col0\" class=\"data row1 col0\" >0.501745</td>\n",
       "    </tr>\n",
       "    <tr>\n",
       "      <th id=\"T_02f50_level0_row2\" class=\"row_heading level0 row2\" >marketing_resume.docx</th>\n",
       "      <td id=\"T_02f50_row2_col0\" class=\"data row2 col0\" >0.490454</td>\n",
       "    </tr>\n",
       "    <tr>\n",
       "      <th id=\"T_02f50_level0_row3\" class=\"row_heading level0 row3\" >project_manager_resume.docx</th>\n",
       "      <td id=\"T_02f50_row3_col0\" class=\"data row3 col0\" >0.391293</td>\n",
       "    </tr>\n",
       "    <tr>\n",
       "      <th id=\"T_02f50_level0_row4\" class=\"row_heading level0 row4\" >software_engineer_resume.pdf</th>\n",
       "      <td id=\"T_02f50_row4_col0\" class=\"data row4 col0\" >0.404415</td>\n",
       "    </tr>\n",
       "  </tbody>\n",
       "</table>\n"
      ],
      "text/plain": [
       "<pandas.io.formats.style.Styler at 0x266afd33220>"
      ]
     },
     "execution_count": 6,
     "metadata": {},
     "output_type": "execute_result"
    }
   ],
   "source": [
    "matcher = ResumeMatcher()\n",
    "matcher.fit(jds_cleaned)\n",
    "similarity_scores = matcher.match(resumes_cleaned)\n",
    "\n",
    "# Show similarity matrix\n",
    "df = pd.DataFrame(\n",
    "    similarity_scores,\n",
    "    index=resumes_raw.keys(),\n",
    "    columns=job_descriptions_raw.keys()\n",
    ")\n",
    "df.style.background_gradient(cmap='Greens')"
   ]
  },
  {
   "cell_type": "code",
   "execution_count": 7,
   "id": "841d22ef",
   "metadata": {},
   "outputs": [
    {
     "name": "stdout",
     "output_type": "stream",
     "text": [
      "💬 LLM Feedback:\n",
      "\n",
      "The resume presents a well-structured and comprehensive showcase of the candidate's skills and experiences relevant to the Data Analyst position. Here is a detailed analysis:\n",
      "\n",
      "Strengths:\n",
      "1. The candidate has demonstrated hands-on experience with querying large datasets using SQL and building dashboards with Power BI, which aligns well with the job responsibilities.\n",
      "2. The projects mentioned in the resume showcase the candidate's ability to work with data from various industries, including eCommerce (Maven Analytics), hospitality (Codebasics.io), and a hardware manufacturing company, presenting valuable insights for stakeholders.\n",
      "3. Strong technical skills, such as using Python, pandas, NumPy, SQL, Matplotlib, Seaborn, MySQL, and Power Query are highlighted in the resume, making the candidate a potential fit for the job description requirements.\n",
      "4. The candidate's proficiency in working collaboratively with cross-functional teams, communicating insights effectively to both technical and non-technical audiences indicates readiness for team collaboration.\n",
      "5. Listing relevant certifications from trusted sources (Udemy, Maven Analytics, Codebasics) adds credibility to the candidate's expertise in SQL, Power BI, and data analytics.\n",
      "6. The education section provides a solid academic foundation in Mechanical Engineering, with further training in Full Stack Data Analytics at iNeuron.ai.\n",
      "\n",
      "Areas for Improvement:\n",
      "1. While the resume presents various data analysis projects, some of them are only listed under \"Project Experience\" without specific details about the project outcomes or business impact, which could strengthen the candidate's application. Showing these details might help demonstrate the value they bring to the table more effectively.\n",
      "2. Tailoring the resume to the preferred industry (retail or e-commerce) could increase the likelihood of being considered, as the current resume doesn't specifically highlight this experience. Additionally, mentioning any relevant skills in machine learning basics could attract the attention of employers looking for someone with that skillset.\n",
      "3. Enhancing the format and design of the resume can make it more visually appealing to potential employers while still maintaining readability and balance.\n",
      "4. Including a professional summary at the beginning of the resume, concisely summarizing skills, experiences, and qualifications relevant to the target position, could add value by immediately capturing the attention of recruiters.\n"
     ]
    }
   ],
   "source": [
    "resume_sample_text = list(resumes_raw.values())[0]\n",
    "job_sample_text = list(job_descriptions_raw.values())[0]\n",
    "\n",
    "feedback = get_resume_feedback(resume_sample_text, job_sample_text)\n",
    "print(\"💬 LLM Feedback:\\n\")\n",
    "print(feedback)"
   ]
  }
 ],
 "metadata": {
  "kernelspec": {
   "display_name": "venv",
   "language": "python",
   "name": "python3"
  },
  "language_info": {
   "codemirror_mode": {
    "name": "ipython",
    "version": 3
   },
   "file_extension": ".py",
   "mimetype": "text/x-python",
   "name": "python",
   "nbconvert_exporter": "python",
   "pygments_lexer": "ipython3",
   "version": "3.10.11"
  }
 },
 "nbformat": 4,
 "nbformat_minor": 5
}
